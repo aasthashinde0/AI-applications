{
 "cells": [
  {
   "cell_type": "code",
   "execution_count": 1,
   "id": "20a72045-b99d-45a6-997d-8d9e584da1cb",
   "metadata": {},
   "outputs": [
    {
     "name": "stdout",
     "output_type": "stream",
     "text": [
      "Tic-Tac-Toe - You (X) vs AI (O)\n",
      " | | \n",
      "-----\n",
      " | | \n",
      "-----\n",
      " | | \n"
     ]
    },
    {
     "name": "stdin",
     "output_type": "stream",
     "text": [
      "Enter your move (1-9):  5\n"
     ]
    },
    {
     "name": "stdout",
     "output_type": "stream",
     "text": [
      " | | \n",
      "-----\n",
      " |X| \n",
      "-----\n",
      " | | \n",
      "AI is making a move...\n",
      "O| | \n",
      "-----\n",
      " |X| \n",
      "-----\n",
      " | | \n"
     ]
    },
    {
     "name": "stdin",
     "output_type": "stream",
     "text": [
      "Enter your move (1-9):  2\n"
     ]
    },
    {
     "name": "stdout",
     "output_type": "stream",
     "text": [
      "O|X| \n",
      "-----\n",
      " |X| \n",
      "-----\n",
      " | | \n",
      "AI is making a move...\n",
      "O|X| \n",
      "-----\n",
      " |X| \n",
      "-----\n",
      " |O| \n"
     ]
    },
    {
     "name": "stdin",
     "output_type": "stream",
     "text": [
      "Enter your move (1-9):  6\n"
     ]
    },
    {
     "name": "stdout",
     "output_type": "stream",
     "text": [
      "O|X| \n",
      "-----\n",
      " |X|X\n",
      "-----\n",
      " |O| \n",
      "AI is making a move...\n",
      "O|X| \n",
      "-----\n",
      "O|X|X\n",
      "-----\n",
      " |O| \n"
     ]
    },
    {
     "name": "stdin",
     "output_type": "stream",
     "text": [
      "Enter your move (1-9):  7\n"
     ]
    },
    {
     "name": "stdout",
     "output_type": "stream",
     "text": [
      "O|X| \n",
      "-----\n",
      "O|X|X\n",
      "-----\n",
      "X|O| \n",
      "AI is making a move...\n",
      "O|X|O\n",
      "-----\n",
      "O|X|X\n",
      "-----\n",
      "X|O| \n"
     ]
    },
    {
     "name": "stdin",
     "output_type": "stream",
     "text": [
      "Enter your move (1-9):  9\n"
     ]
    },
    {
     "name": "stdout",
     "output_type": "stream",
     "text": [
      "O|X|O\n",
      "-----\n",
      "O|X|X\n",
      "-----\n",
      "X|O|X\n",
      "It's a draw!\n"
     ]
    }
   ],
   "source": [
    "import math\n",
    "\n",
    "# Initialize the board\n",
    "board = [\" \" for _ in range(9)]\n",
    "\n",
    "# Print the board\n",
    "def print_board():\n",
    "    for i in range(3):\n",
    "        print(\"|\".join(board[i*3:(i+1)*3]))\n",
    "        if i < 2:\n",
    "            print(\"-----\")\n",
    "\n",
    "# Check for winner\n",
    "def check_winner(board, player):\n",
    "    win_conditions = [\n",
    "        [0,1,2], [3,4,5], [6,7,8],  # rows\n",
    "        [0,3,6], [1,4,7], [2,5,8],  # columns\n",
    "        [0,4,8], [2,4,6]            # diagonals\n",
    "    ]\n",
    "    for condition in win_conditions:\n",
    "        if all(board[i] == player for i in condition):\n",
    "            return True\n",
    "    return False\n",
    "\n",
    "# Check if board is full\n",
    "def is_full(board):\n",
    "    return \" \" not in board\n",
    "\n",
    "# Minimax algorithm\n",
    "def minimax(board, depth, is_maximizing):\n",
    "    if check_winner(board, \"O\"):\n",
    "        return 1\n",
    "    if check_winner(board, \"X\"):\n",
    "        return -1\n",
    "    if is_full(board):\n",
    "        return 0\n",
    "\n",
    "    if is_maximizing:\n",
    "        best_score = -math.inf\n",
    "        for i in range(9):\n",
    "            if board[i] == \" \":\n",
    "                board[i] = \"O\"\n",
    "                score = minimax(board, depth + 1, False)\n",
    "                board[i] = \" \"\n",
    "                best_score = max(score, best_score)\n",
    "        return best_score\n",
    "    else:\n",
    "        best_score = math.inf\n",
    "        for i in range(9):\n",
    "            if board[i] == \" \":\n",
    "                board[i] = \"X\"\n",
    "                score = minimax(board, depth + 1, True)\n",
    "                board[i] = \" \"\n",
    "                best_score = min(score, best_score)\n",
    "        return best_score\n",
    "\n",
    "# AI Move\n",
    "def ai_move():\n",
    "    best_score = -math.inf\n",
    "    move = 0\n",
    "    for i in range(9):\n",
    "        if board[i] == \" \":\n",
    "            board[i] = \"O\"\n",
    "            score = minimax(board, 0, False)\n",
    "            board[i] = \" \"\n",
    "            if score > best_score:\n",
    "                best_score = score\n",
    "                move = i\n",
    "    board[move] = \"O\"\n",
    "\n",
    "# Human move\n",
    "def human_move():\n",
    "    while True:\n",
    "        move = int(input(\"Enter your move (1-9): \")) - 1\n",
    "        if 0 <= move <= 8 and board[move] == \" \":\n",
    "            board[move] = \"X\"\n",
    "            break\n",
    "        else:\n",
    "            print(\"Invalid move. Try again.\")\n",
    "\n",
    "# Game loop\n",
    "def play_game():\n",
    "    print(\"Tic-Tac-Toe - You (X) vs AI (O)\")\n",
    "    print_board()\n",
    "\n",
    "    while True:\n",
    "        human_move()\n",
    "        print_board()\n",
    "        if check_winner(board, \"X\"):\n",
    "            print(\"You win!\")\n",
    "            break\n",
    "        if is_full(board):\n",
    "            print(\"It's a draw!\")\n",
    "            break\n",
    "\n",
    "        print(\"AI is making a move...\")\n",
    "        ai_move()\n",
    "        print_board()\n",
    "        if check_winner(board, \"O\"):\n",
    "            print(\"AI wins!\")\n",
    "            break\n",
    "        if is_full(board):\n",
    "            print(\"It's a draw!\")\n",
    "            break\n",
    "\n",
    "# Run the game\n",
    "play_game()\n"
   ]
  }
 ],
 "metadata": {
  "kernelspec": {
   "display_name": "Python 3 (ipykernel)",
   "language": "python",
   "name": "python3"
  },
  "language_info": {
   "codemirror_mode": {
    "name": "ipython",
    "version": 3
   },
   "file_extension": ".py",
   "mimetype": "text/x-python",
   "name": "python",
   "nbconvert_exporter": "python",
   "pygments_lexer": "ipython3",
   "version": "3.13.3"
  }
 },
 "nbformat": 4,
 "nbformat_minor": 5
}
