{
 "cells": [
  {
   "cell_type": "code",
   "execution_count": 3,
   "id": "ab010827-a1c1-47ae-befc-138dae51cf3e",
   "metadata": {},
   "outputs": [
    {
     "name": "stdout",
     "output_type": "stream",
     "text": [
      "Move disk 1 from A to B\n",
      "Move disk 2 from A to C\n",
      "Move disk 1 from B to C\n",
      "\n",
      "Total Moves: 3\n"
     ]
    }
   ],
   "source": [
    "def tower_of_hanoi(n, source, auxiliary, target, moves=[]):\n",
    "    if n == 1:\n",
    "        moves.append(f\"Move disk 1 from {source} to {target}\")\n",
    "        return moves\n",
    "        \n",
    "    # Move n-1 disks from source to auxiliary using destination as a buffer\n",
    "    tower_of_hanoi(n - 1, source, target, auxiliary, moves)\n",
    "    \n",
    "    # Move the nth (largest) disk from source to destination\n",
    "    moves.append(f\"Move disk {n} from {source} to {target}\")\n",
    "    \n",
    "    # Move n-1 disks from auxiliary to destination using source as a buffer\n",
    "    tower_of_hanoi(n - 1, auxiliary, source, target, moves)\n",
    "    \n",
    "    return moves\n",
    "\n",
    "\n",
    "num_disks = 2  # Change this number to test with different number of disks\n",
    "moves = tower_of_hanoi(num_disks, 'A', 'B', 'C')\n",
    "\n",
    "print(\"\\n\".join(moves))\n",
    "print(f\"\\nTotal Moves: {len(moves)}\")\n"
   ]
  }
 ],
 "metadata": {
  "kernelspec": {
   "display_name": "Python 3 (ipykernel)",
   "language": "python",
   "name": "python3"
  },
  "language_info": {
   "codemirror_mode": {
    "name": "ipython",
    "version": 3
   },
   "file_extension": ".py",
   "mimetype": "text/x-python",
   "name": "python",
   "nbconvert_exporter": "python",
   "pygments_lexer": "ipython3",
   "version": "3.13.3"
  }
 },
 "nbformat": 4,
 "nbformat_minor": 5
}
